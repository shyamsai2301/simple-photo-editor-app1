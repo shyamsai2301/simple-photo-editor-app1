{
 "cells": [
  {
   "cell_type": "code",
   "execution_count": 1,
   "metadata": {},
   "outputs": [],
   "source": [
    "from tkinter import *\n",
    "from tkinter import ttk\n",
    "from tkinter import filedialog\n",
    "from tkinter.filedialog import askopenfilename,asksaveasfilename\n",
    "from PIL import Image, ImageTk, ImageFilter, ImageEnhance, ImageOps\n",
    "import os\n"
   ]
  },
  {
   "cell_type": "code",
   "execution_count": 2,
   "metadata": {},
   "outputs": [
    {
     "data": {
      "text/plain": [
       "''"
      ]
     },
     "execution_count": 2,
     "metadata": {},
     "output_type": "execute_result"
    }
   ],
   "source": [
    "# contrast border thumbnail \n",
    "root = Tk()\n",
    "root.title(\"Simple Photo Editor\")\n",
    "root.geometry(\"640x640\")\n"
   ]
  },
  {
   "cell_type": "code",
   "execution_count": 3,
   "metadata": {},
   "outputs": [],
   "source": [
    "# create functions\n",
    "def selected():\n",
    "    global img_path, img\n",
    "    img_path = filedialog.askopenfilename(initialdir=os.getcwd()) \n",
    "    img = Image.open(img_path)\n",
    "    img.thumbnail((350, 350))\n",
    "    #imgg = img.filter(ImageFilter.BoxBlur(0))\n",
    "    img1 = ImageTk.PhotoImage(img)\n",
    "    canvas2.create_image(300, 210, image=img1)\n",
    "    canvas2.image=img1            "
   ]
  },
  {
   "cell_type": "code",
   "execution_count": 4,
   "metadata": {},
   "outputs": [],
   "source": [
    "def blur(event):\n",
    "    global img_path, img1, imgg\n",
    "    for m in range(0, v1.get()+1):\n",
    "            img = Image.open(img_path)\n",
    "            img.thumbnail((350, 350))\n",
    "            imgg = img.filter(ImageFilter.BoxBlur(m))\n",
    "            img1 = ImageTk.PhotoImage(imgg) \n",
    "            canvas2.create_image(300, 210, image=img1)\n",
    "            canvas2.image=img1\n"
   ]
  },
  {
   "cell_type": "code",
   "execution_count": 5,
   "metadata": {},
   "outputs": [],
   "source": [
    "def brightness(event):\n",
    "    global img_path, img2, img3\n",
    "    for m in range(0, v2.get()+1):\n",
    "            img = Image.open(img_path)\n",
    "            img.thumbnail((350, 350))\n",
    "            imgg = ImageEnhance.Brightness(img)\n",
    "            img2 = imgg.enhance(m)\n",
    "            img3 = ImageTk.PhotoImage(img2)\n",
    "            canvas2.create_image(300, 210, image=img3)\n",
    "            canvas2.image=img3\n",
    "def contrast(event):\n",
    "    global img_path, img4, img5\n",
    "    for m in range(0, v3.get()+1):\n",
    "            img = Image.open(img_path)\n",
    "            img.thumbnail((350, 350))\n",
    "            imgg = ImageEnhance.Contrast(img)\n",
    "            img4 = imgg.enhance(m)\n",
    "            img5 = ImageTk.PhotoImage(img4)\n",
    "            canvas2.create_image(300, 210, image=img5)\n",
    "            canvas2.image=img5\n"
   ]
  },
  {
   "cell_type": "code",
   "execution_count": 6,
   "metadata": {},
   "outputs": [],
   "source": [
    "def rotate_image(event):\n",
    "        global img_path, img6, img7\n",
    "        img = Image.open(img_path)\n",
    "        img.thumbnail((350, 350))\n",
    "        img6 = img.rotate(int(rotate_combo.get()))\n",
    "        img7 = ImageTk.PhotoImage(img6)\n",
    "        canvas2.create_image(300, 210, image=img7)\n",
    "        canvas2.image=img7\n",
    "        \n",
    "def flip_image(event):\n",
    "        global img_path, img8, img9\n",
    "        img = Image.open(img_path)\n",
    "        img.thumbnail((350, 350))\n",
    "        if flip_combo.get() == \"FLIP LEFT TO RIGHT\":\n",
    "            img8 = img.transpose(Image.FLIP_LEFT_RIGHT)\n",
    "        elif flip_combo.get() == \"FLIP TOP TO BOTTOM\":\n",
    "            img8 = img.transpose(Image.FLIP_TOP_BOTTOM)\n",
    "        img9 = ImageTk.PhotoImage(img8)\n",
    "        canvas2.create_image(300, 210, image=img9)\n",
    "        canvas2.image=img9   "
   ]
  },
  {
   "cell_type": "code",
   "execution_count": 7,
   "metadata": {},
   "outputs": [],
   "source": [
    "def image_border(event):\n",
    "    global img_path, img10, img11\n",
    "    img = Image.open(img_path)\n",
    "    img.thumbnail((350, 350))\n",
    "    img10 = ImageOps.expand(img, border=int(border_combo.get()), fill=95)\n",
    "    img11 = ImageTk.PhotoImage(img10)\n",
    "    canvas2.create_image(300, 210, image=img11)\n",
    "    canvas2.image=img11    "
   ]
  },
  {
   "cell_type": "code",
   "execution_count": 8,
   "metadata": {},
   "outputs": [],
   "source": [
    "img1 = None\n",
    "img3 = None\n",
    "img5 = None\n",
    "img7 = None\n",
    "img9 = None\n",
    "img11 = None\n"
   ]
  },
  {
   "cell_type": "code",
   "execution_count": 9,
   "metadata": {},
   "outputs": [],
   "source": [
    "def save():\n",
    "    global img_path, imgg, img1, img2, img3, img4, img5, img6, img7, img8, img9, img10, img11\n",
    "    #file=None\n",
    "    ext = img_path.split(\".\")[-1]\n",
    "    file=asksaveasfilename(defaultextension =f\".{ext}\",filetypes=[(\"All Files\",\"*.*\"),(\"PNG file\",\"*.png\"),(\"jpg file\",\"*.jpg\")])\n",
    "    if file: \n",
    "            if canvas2.image==img1:\n",
    "                imgg.save(file)\n",
    "            elif canvas2.image==img3:\n",
    "                img2.save(file)\n",
    "            elif canvas2.image==img5:\n",
    "                img4.save(file)\n",
    "            elif canvas2.image==img7:\n",
    "                img6.save(file)\n",
    "            elif canvas2.image==img9:\n",
    "                img8.save(file)\n",
    "            elif canvas2.image==img11:\n",
    "                img10.save(file)        \n"
   ]
  },
  {
   "cell_type": "code",
   "execution_count": 10,
   "metadata": {},
   "outputs": [
    {
     "data": {
      "text/plain": [
       "'1919371528192image_border'"
      ]
     },
     "execution_count": 10,
     "metadata": {},
     "output_type": "execute_result"
    }
   ],
   "source": [
    "# create labels, scales and comboboxes\n",
    "blurr = Label(root, text=\"Blur:\", font=(\"ariel 17 bold\"), width=9, anchor='e')\n",
    "blurr.place(x=15, y=8)\n",
    "v1 = IntVar()\n",
    "scale1 = ttk.Scale(root, from_=0, to=10, variable=v1, orient=HORIZONTAL, command=blur) \n",
    "scale1.place(x=150, y=10)\n",
    "bright = Label(root, text=\"Brightness:\", font=(\"ariel 17 bold\"))\n",
    "bright.place(x=8, y=50)\n",
    "v2 = IntVar()   \n",
    "scale2 = ttk.Scale(root, from_=0, to=10, variable=v2, orient=HORIZONTAL, command=brightness) \n",
    "scale2.place(x=150, y=55)\n",
    "contrast = Label(root, text=\"Contrast:\", font=(\"ariel 17 bold\"))\n",
    "contrast.place(x=35, y=92)\n",
    "v3 = IntVar()   \n",
    "scale3 = ttk.Scale(root, from_=0, to=10, variable=v3, orient=HORIZONTAL, command=contrast) \n",
    "scale3.place(x=150, y=100)\n",
    "rotate = Label(root, text=\"Rotate:\", font=(\"ariel 17 bold\"))\n",
    "rotate.place(x=370, y=8)\n",
    "values = [0, 90, 180, 270, 360]\n",
    "rotate_combo = ttk.Combobox(root, values=values, font=('ariel 10 bold'))\n",
    "rotate_combo.place(x=460, y=15)\n",
    "rotate_combo.bind(\"<<ComboboxSelected>>\", rotate_image)\n",
    "flip = Label(root, text=\"Flip:\", font=(\"ariel 17 bold\"))\n",
    "flip.place(x=400, y=50)\n",
    "values1 = [\"FLIP LEFT TO RIGHT\", \"FLIP TOP TO BOTTOM\"]\n",
    "flip_combo = ttk.Combobox(root, values=values1, font=('ariel 10 bold'))\n",
    "flip_combo.place(x=460, y=57)\n",
    "flip_combo.bind(\"<<ComboboxSelected>>\", flip_image)\n",
    "border = Label(root, text=\"Add border:\", font=(\"ariel 17 bold\"))\n",
    "border.place(x=320, y=92)\n",
    "values2 = [i for i in range(10, 45, 5)]\n",
    "border_combo = ttk.Combobox(root, values=values2, font=(\"ariel 10 bold\"))\n",
    "border_combo.place(x=460, y=99)\n",
    "border_combo.bind(\"<<ComboboxSelected>>\", image_border)\n"
   ]
  },
  {
   "cell_type": "code",
   "execution_count": 11,
   "metadata": {},
   "outputs": [
    {
     "name": "stderr",
     "output_type": "stream",
     "text": [
      "Exception in Tkinter callback\n",
      "Traceback (most recent call last):\n",
      "  File \"C:\\Users\\echip\\anaconda3\\lib\\site-packages\\PIL\\Image.py\", line 2895, in open\n",
      "    fp.seek(0)\n",
      "AttributeError: 'str' object has no attribute 'seek'\n",
      "\n",
      "During handling of the above exception, another exception occurred:\n",
      "\n",
      "Traceback (most recent call last):\n",
      "  File \"C:\\Users\\echip\\anaconda3\\lib\\tkinter\\__init__.py\", line 1883, in __call__\n",
      "    return self.func(*args)\n",
      "  File \"<ipython-input-3-53bd3d2cfb19>\", line 5, in selected\n",
      "    img = Image.open(img_path)\n",
      "  File \"C:\\Users\\echip\\anaconda3\\lib\\site-packages\\PIL\\Image.py\", line 2897, in open\n",
      "    fp = io.BytesIO(fp.read())\n",
      "AttributeError: 'str' object has no attribute 'read'\n"
     ]
    }
   ],
   "source": [
    "# create canvas to display image\n",
    "canvas2 = Canvas(root, width=\"600\", height=\"420\", relief=RIDGE, bd=2)\n",
    "canvas2.place(x=15, y=150)\n",
    "# create buttons\n",
    "btn1 = Button(root, text=\"Select Image\", bg='black', fg='gold', font=('ariel 15 bold'), relief=GROOVE, command=selected)\n",
    "btn1.place(x=100, y=595)\n",
    "btn2 = Button(root, text=\"Save\", width=12, bg='black', fg='gold', font=('ariel 15 bold'), relief=GROOVE, command=save)\n",
    "btn2.place(x=280, y=595)\n",
    "btn3 = Button(root, text=\"Exit\", width=12, bg='black', fg='gold', font=('ariel 15 bold'), relief=GROOVE, command=root.destroy)\n",
    "btn3.place(x=460, y=595)\n",
    "root.mainloop()"
   ]
  },
  {
   "cell_type": "code",
   "execution_count": null,
   "metadata": {},
   "outputs": [],
   "source": []
  }
 ],
 "metadata": {
  "kernelspec": {
   "display_name": "Python 3",
   "language": "python",
   "name": "python3"
  },
  "language_info": {
   "codemirror_mode": {
    "name": "ipython",
    "version": 3
   },
   "file_extension": ".py",
   "mimetype": "text/x-python",
   "name": "python",
   "nbconvert_exporter": "python",
   "pygments_lexer": "ipython3",
   "version": "3.8.5"
  }
 },
 "nbformat": 4,
 "nbformat_minor": 4
}
